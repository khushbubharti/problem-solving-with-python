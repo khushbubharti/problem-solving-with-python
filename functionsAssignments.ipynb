{
 "cells": [
  {
   "cell_type": "markdown",
   "metadata": {},
   "source": [
    "1> Write a function eval_Quadratic_Equa(a,b,c,x) which returns the value of any quadratic equation of form .\n",
    "##a*x**2+b*x+c"
   ]
  },
  {
   "cell_type": "code",
   "execution_count": 12,
   "metadata": {},
   "outputs": [
    {
     "name": "stdout",
     "output_type": "stream",
     "text": [
      "Equation : 6x**2 + 8x + 9\n"
     ]
    }
   ],
   "source": [
    "def eval_Quadratic_Equa(a,b,c,x):\n",
    "    print(\"Equation : {0}x**2 + {1}x + {2}\". format(a,b,c,x))\n",
    "eval_Quadratic_Equa(6,8,9,7)    "
   ]
  },
  {
   "cell_type": "markdown",
   "metadata": {},
   "source": [
    "2> Write a function calc_exp(base,exp) which computes the exponents of any number ,i.e. base^exp.The fuction should take two values as base , which can be float and integer.Exp will be an integer greater than 0."
   ]
  },
  {
   "cell_type": "code",
   "execution_count": 24,
   "metadata": {},
   "outputs": [
    {
     "name": "stdout",
     "output_type": "stream",
     "text": [
      "Enter base: 7\n",
      "Enter exponential value: 4\n",
      "Result: 2401\n"
     ]
    }
   ],
   "source": [
    "def power(base,exp):\n",
    "    if(exp==1):\n",
    "        return(base)\n",
    "    if(exp!=1):\n",
    "        return(base*power(base,exp-1))\n",
    "base=int(input(\"Enter base: \"))\n",
    "exp=int(input(\"Enter exponential value: \"))\n",
    "print(\"Result:\",power(base,exp))"
   ]
  },
  {
   "cell_type": "markdown",
   "metadata": {},
   "source": [
    "3> Write a function calc_GCD_Recurra(a,b) which calculate the GCD recursively of two numbers.The function should take two positive integers and should return one integer as GCD."
   ]
  },
  {
   "cell_type": "code",
   "execution_count": 16,
   "metadata": {},
   "outputs": [
    {
     "name": "stdout",
     "output_type": "stream",
     "text": [
      "Please Enter the first value = 9\n",
      "Please Enter the value of second number = 6\n",
      "GCD of 9 and 6 is =  3\n"
     ]
    }
   ],
   "source": [
    "def cal_GCD_Recurra(a,b):\n",
    "    gcd=0\n",
    "    i = 1\n",
    "    while (i<=a and i<=b):\n",
    "        if (a%i==0 and b%i==0):\n",
    "            gcd = i\n",
    "        i=i+1\n",
    "    return gcd;\n",
    "a=int(input(\"Please Enter the first value = \"))\n",
    "b=int(input(\"Please Enter the value of second number = \"))\n",
    "print(f\"GCD of {a} and {b} is = \",cal_GCD_Recurra(a,b))"
   ]
  },
  {
   "cell_type": "markdown",
   "metadata": {},
   "source": [
    "4> Write a function reverse_number() to return the reverse of the number entered."
   ]
  },
  {
   "cell_type": "code",
   "execution_count": 7,
   "metadata": {},
   "outputs": [
    {
     "name": "stdout",
     "output_type": "stream",
     "text": [
      "Please Enter a number = 9875\n",
      "The reverse of 9875 is =  5789\n"
     ]
    }
   ],
   "source": [
    "def reverse_number(a):\n",
    "    reverse = 0\n",
    "    while(a>0):\n",
    "        remainder = a%10\n",
    "        reverse = (reverse*10)+remainder\n",
    "        a=a//10\n",
    "    return reverse\n",
    "a=int(input(\"Please Enter a number = \"))\n",
    "result = reverse_number(a) \n",
    "print(f\"The reverse of {a} is = \",result)"
   ]
  },
  {
   "cell_type": "markdown",
   "metadata": {},
   "source": [
    "5> A four-digit integer is entered through the keybord. Write a function to calculate the sum of the digits of a four digit  number."
   ]
  },
  {
   "cell_type": "code",
   "execution_count": 14,
   "metadata": {},
   "outputs": [
    {
     "name": "stdout",
     "output_type": "stream",
     "text": [
      "Please Enter the number = 6543\n",
      "The sum of digits of 6543 is 18\n"
     ]
    }
   ],
   "source": [
    "def Sum_of_digits(a):\n",
    "    sum = 0\n",
    "    while(a>0):\n",
    "        number = a%10\n",
    "        sum = sum+number\n",
    "        a = a//10\n",
    "    return sum\n",
    "a=int(input(\"Please Enter the number = \"))\n",
    "result = Sum_of_digits(a)\n",
    "print(f\"The sum of digits of {a} is {result}\")"
   ]
  }
 ],
 "metadata": {
  "kernelspec": {
   "display_name": "Python 3",
   "language": "python",
   "name": "python3"
  },
  "language_info": {
   "codemirror_mode": {
    "name": "ipython",
    "version": 3
   },
   "file_extension": ".py",
   "mimetype": "text/x-python",
   "name": "python",
   "nbconvert_exporter": "python",
   "pygments_lexer": "ipython3",
   "version": "3.7.3"
  }
 },
 "nbformat": 4,
 "nbformat_minor": 2
}
