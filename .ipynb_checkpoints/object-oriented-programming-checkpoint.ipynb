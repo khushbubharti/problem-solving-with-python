{
 "cells": [
  {
   "cell_type": "markdown",
   "metadata": {},
   "source": [
    "1> Write a program to calculate area of ractangle using oop."
   ]
  },
  {
   "cell_type": "code",
   "execution_count": 1,
   "metadata": {},
   "outputs": [
    {
     "name": "stdout",
     "output_type": "stream",
     "text": [
      "Please Enter the value of Length\n",
      "8.9\n",
      "Please Enter the value of bredth\n",
      "9.6\n",
      "The Area of Ractangle is =  85.44\n"
     ]
    }
   ],
   "source": [
    "class Ractangle:\n",
    "    l = 0\n",
    "    b = 0\n",
    "    a = 0\n",
    "    def Accept(self):\n",
    "        print(\"Please Enter the value of Length\")\n",
    "        self.l = float(input())\n",
    "        print(\"Please Enter the value of bredth\")\n",
    "        self.b = float(input())\n",
    "    \n",
    "    def Calc_Area(self):\n",
    "        self.a = self.l*self.b\n",
    "        return self.a\n",
    "    def Display(self):\n",
    "        print(\"The Area of Ractangle is = \",self.a)\n",
    "\n",
    "r = Ractangle()\n",
    "r.Accept()\n",
    "r.Calc_Area()\n",
    "r.Display()"
   ]
  }
 ],
 "metadata": {
  "kernelspec": {
   "display_name": "Python 3",
   "language": "python",
   "name": "python3"
  },
  "language_info": {
   "codemirror_mode": {
    "name": "ipython",
    "version": 3
   },
   "file_extension": ".py",
   "mimetype": "text/x-python",
   "name": "python",
   "nbconvert_exporter": "python",
   "pygments_lexer": "ipython3",
   "version": "3.7.3"
  }
 },
 "nbformat": 4,
 "nbformat_minor": 2
}
