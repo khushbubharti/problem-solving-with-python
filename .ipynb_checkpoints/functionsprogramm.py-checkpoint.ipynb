{
 "cells": [
  {
   "cell_type": "markdown",
   "metadata": {},
   "source": [
    "# Function"
   ]
  },
  {
   "cell_type": "markdown",
   "metadata": {},
   "source": [
    "1> write a program to create a function having a name ,display . Print the message , \"Welcome to Python Programming\"inside the function "
   ]
  },
  {
   "cell_type": "code",
   "execution_count": 3,
   "metadata": {},
   "outputs": [
    {
     "name": "stdout",
     "output_type": "stream",
     "text": [
      "Welcome to Python Programming\n"
     ]
    }
   ],
   "source": [
    "def Display():\n",
    "    print(\"Welcome to Python Programming\")\n",
    "Display()"
   ]
  },
  {
   "cell_type": "markdown",
   "metadata": {},
   "source": [
    "2> Write the program to add the sum of digits from 1 to 25,50 to 76 and 90 to 101 using three diffrent for loop"
   ]
  },
  {
   "cell_type": "code",
   "execution_count": 4,
   "metadata": {},
   "outputs": [
    {
     "name": "stdout",
     "output_type": "stream",
     "text": [
      "sum of integers from 1 to 25 =  325\n",
      "sum of integers from 50 to 76 =  1701\n",
      "sum of integers from 90 to 102 =  1045\n"
     ]
    }
   ],
   "source": [
    "sum = 0\n",
    "for i in range (1,26):\n",
    "    sum=sum+i\n",
    "print(\"sum of integers from 1 to 25 = \",sum)\n",
    "sum = 0\n",
    "for i in range (50,77):\n",
    "    sum=sum+i\n",
    "print(\"sum of integers from 50 to 76 = \",sum)\n",
    "sum = 0\n",
    "for i in range (90,101):\n",
    "    sum=sum+i\n",
    "print(\"sum of integers from 90 to 102 = \",sum)\n",
    "\n",
    "    "
   ]
  },
  {
   "cell_type": "markdown",
   "metadata": {},
   "source": [
    "3> Write a program to find the maximum of two numbers."
   ]
  },
  {
   "cell_type": "code",
   "execution_count": 5,
   "metadata": {},
   "outputs": [
    {
     "name": "stdout",
     "output_type": "stream",
     "text": [
      "num1 =  34\n",
      "num2 =  32\n",
      "the number 34 is greater than 32\n"
     ]
    }
   ],
   "source": [
    "def printmax(num1,num2):\n",
    "    print(\"num1 = \",num1)\n",
    "    print(\"num2 = \",num2)\n",
    "    if num1>num2:\n",
    "        print(\"the number\",num1,\"is greater than\",num2)\n",
    "    elif num2>num2:\n",
    "        print(\"the number \",num2,\"is greater than\",num2)\n",
    "    else:\n",
    "        print(\"the both numbers\",num1,\"and\",num2,\"both are equal\")\n",
    "printmax(34,32)\n",
    "    "
   ]
  },
  {
   "cell_type": "markdown",
   "metadata": {},
   "source": [
    "4> write the program to find the factorial"
   ]
  },
  {
   "cell_type": "code",
   "execution_count": 2,
   "metadata": {},
   "outputs": [
    {
     "name": "stdout",
     "output_type": "stream",
     "text": [
      "Enter the number8\n",
      "Entered number is : 8\n",
      "Factorial of number 8 is= 40320\n"
     ]
    }
   ],
   "source": [
    "def cal_factorial(num):\n",
    "    fact=1\n",
    "    print(\"Entered number is :\",num)\n",
    "    for i in range(1,num+1):\n",
    "        fact=fact*i\n",
    "    print(\"Factorial of number\",num,\"is=\",fact)\n",
    "number=int(input(\"Enter the number\"))\n",
    "cal_factorial(number)"
   ]
  },
  {
   "cell_type": "markdown",
   "metadata": {},
   "source": [
    "##Positional arguments.\n",
    "##5> to demonstrate the use of positional arguments.\n"
   ]
  },
  {
   "cell_type": "code",
   "execution_count": 5,
   "metadata": {},
   "outputs": [
    {
     "name": "stdout",
     "output_type": "stream",
     "text": [
      "Name= John age = 26\n"
     ]
    }
   ],
   "source": [
    "def Display(Name,age):\n",
    "    print(\"Name=\",Name,\"age =\",age)\n",
    "Display(age=26,Name=\"John\")\n"
   ]
  },
  {
   "cell_type": "code",
   "execution_count": 6,
   "metadata": {},
   "outputs": [
    {
     "name": "stdout",
     "output_type": "stream",
     "text": [
      "hello sachin Welcome to the python!!\n"
     ]
    }
   ],
   "source": [
    "def greet(name,msg=\"Welcome to the python!!\"):\n",
    "    print(\"hello\",name,msg)\n",
    "greet(\"sachin\")\n"
   ]
  },
  {
   "cell_type": "markdown",
   "metadata": {},
   "source": [
    "6> Write a program to calculate the area of a circle using the formula.\n",
    "##Area of circle = pi*(r)2^2"
   ]
  },
  {
   "cell_type": "code",
   "execution_count": 9,
   "metadata": {},
   "outputs": [
    {
     "name": "stdout",
     "output_type": "stream",
     "text": [
      "radius= 1\n",
      "The area of Circle =  3.14\n",
      "radius= 5\n",
      "The area of Circle =  78.5\n"
     ]
    }
   ],
   "source": [
    "def area_circle(pi = 3.14,radius = 1):\n",
    "    area = pi*radius*radius\n",
    "    print(\"radius=\",radius)\n",
    "    print(\"The area of Circle = \",area)\n",
    "area_circle()\n",
    "area_circle(radius = 5)"
   ]
  },
  {
   "cell_type": "code",
   "execution_count": 1,
   "metadata": {},
   "outputs": [
    {
     "name": "stdout",
     "output_type": "stream",
     "text": [
      "a =  34 b =  10 c =  20\n"
     ]
    }
   ],
   "source": [
    "def Display_val(a,b=10,c=20):\n",
    "    print(\"a = \",a,\"b = \",b,\"c = \",c)\n",
    "Display_val(34)"
   ]
  },
  {
   "cell_type": "code",
   "execution_count": 3,
   "metadata": {},
   "outputs": [
    {
     "name": "stdout",
     "output_type": "stream",
     "text": [
      "a =  40 b =  80 c =  90\n"
     ]
    }
   ],
   "source": [
    "Display_val(c=90,b=80,a=40)"
   ]
  },
  {
   "cell_type": "markdown",
   "metadata": {},
   "source": [
    "##The LOcal and global scope of a variable\n",
    "##7> Write a program to show the local scope and global scope."
   ]
  },
  {
   "cell_type": "code",
   "execution_count": 6,
   "metadata": {},
   "outputs": [
    {
     "name": "stdout",
     "output_type": "stream",
     "text": [
      "The value of local variable q: 60\n",
      "The value of Global variable p: 20\n"
     ]
    }
   ],
   "source": [
    "p=20\n",
    "def Demo():\n",
    "    q=60\n",
    "    print(\"The value of local variable q:\",q)\n",
    "    print(\"The value of Global variable p:\",p)\n",
    "Demo()"
   ]
  },
  {
   "cell_type": "markdown",
   "metadata": {},
   "source": [
    "8> Write a program to access a local variable outside a function."
   ]
  },
  {
   "cell_type": "code",
   "execution_count": 8,
   "metadata": {},
   "outputs": [
    {
     "name": "stdout",
     "output_type": "stream",
     "text": [
      "The value of local variable q: 10\n"
     ]
    },
    {
     "ename": "NameError",
     "evalue": "name 'q' is not defined",
     "output_type": "error",
     "traceback": [
      "\u001b[1;31m---------------------------------------------------------------------------\u001b[0m",
      "\u001b[1;31mNameError\u001b[0m                                 Traceback (most recent call last)",
      "\u001b[1;32m<ipython-input-8-e9873ba1f5cf>\u001b[0m in \u001b[0;36m<module>\u001b[1;34m\u001b[0m\n\u001b[0;32m      3\u001b[0m     \u001b[0mprint\u001b[0m\u001b[1;33m(\u001b[0m\u001b[1;34m\"The value of local variable q:\"\u001b[0m\u001b[1;33m,\u001b[0m\u001b[0mq\u001b[0m\u001b[1;33m)\u001b[0m\u001b[1;33m\u001b[0m\u001b[1;33m\u001b[0m\u001b[0m\n\u001b[0;32m      4\u001b[0m \u001b[0mDemo\u001b[0m\u001b[1;33m(\u001b[0m\u001b[1;33m)\u001b[0m\u001b[1;33m\u001b[0m\u001b[1;33m\u001b[0m\u001b[0m\n\u001b[1;32m----> 5\u001b[1;33m \u001b[0mprint\u001b[0m\u001b[1;33m(\u001b[0m\u001b[1;34m\"The value of local variable q:\"\u001b[0m\u001b[1;33m,\u001b[0m\u001b[0mq\u001b[0m\u001b[1;33m)\u001b[0m\u001b[1;33m\u001b[0m\u001b[1;33m\u001b[0m\u001b[0m\n\u001b[0m",
      "\u001b[1;31mNameError\u001b[0m: name 'q' is not defined"
     ]
    }
   ],
   "source": [
    "def Demo():\n",
    "    q = 10\n",
    "    print(\"The value of local variable q:\",q)\n",
    "Demo()\n",
    "print(\"The value of local variable q:\",q)"
   ]
  },
  {
   "cell_type": "code",
   "execution_count": 9,
   "metadata": {},
   "outputs": [
    {
     "name": "stdout",
     "output_type": "stream",
     "text": [
      "I Love Python\n"
     ]
    }
   ],
   "source": [
    "def Demo():\n",
    "    print(s)\n",
    "s='I Love Python'\n",
    "Demo()"
   ]
  },
  {
   "cell_type": "markdown",
   "metadata": {},
   "source": [
    "9> Write a program to change the value \"s\" within the function."
   ]
  },
  {
   "cell_type": "code",
   "execution_count": 11,
   "metadata": {},
   "outputs": [
    {
     "name": "stdout",
     "output_type": "stream",
     "text": [
      "I Love Programming\n",
      "I Love Python\n"
     ]
    }
   ],
   "source": [
    "def Demo():\n",
    "    s = \"I Love Programming\"\n",
    "    print(s)\n",
    "s = \"I Love Python\"\n",
    "Demo()\n",
    "print(s)"
   ]
  },
  {
   "cell_type": "markdown",
   "metadata": {},
   "source": [
    "10> Write a program using global statement."
   ]
  },
  {
   "cell_type": "code",
   "execution_count": 12,
   "metadata": {},
   "outputs": [
    {
     "name": "stdout",
     "output_type": "stream",
     "text": [
      "The value of a in function: 30\n",
      "The value of an outside function: 30\n"
     ]
    }
   ],
   "source": [
    "a=20\n",
    "def Display():\n",
    "    global a\n",
    "    a=30\n",
    "    print(\"The value of a in function:\",a)\n",
    "Display()\n",
    "print(\"The value of an outside function:\",a)\n",
    "    "
   ]
  },
  {
   "cell_type": "markdown",
   "metadata": {},
   "source": [
    "11> Write a program to return the minimum of two numbers."
   ]
  },
  {
   "cell_type": "code",
   "execution_count": 14,
   "metadata": {},
   "outputs": [
    {
     "name": "stdout",
     "output_type": "stream",
     "text": [
      "50\n"
     ]
    }
   ],
   "source": [
    "def minimum (a,b):\n",
    "    if a<b:\n",
    "        return a\n",
    "    elif a>b:\n",
    "        return b\n",
    "    else:\n",
    "        return \"Both te numbers are equal\"\n",
    "print(minimum (100,50))"
   ]
  },
  {
   "cell_type": "markdown",
   "metadata": {},
   "source": [
    "12> Write a function to calc_Distance (x1,y1,x2,y2)to calculate the distance between two points represented by Point1 (x1,y1) and Point2(x2,y2).The formula for calculating distanvce is:\n"
   ]
  },
  {
   "cell_type": "code",
   "execution_count": 18,
   "metadata": {},
   "outputs": [
    {
     "name": "stdout",
     "output_type": "stream",
     "text": [
      "x1 =  4\n",
      "x2 =  2\n",
      "y1 =  4\n",
      "y2 =  2\n",
      "Distance =  2.8284271247461903\n"
     ]
    }
   ],
   "source": [
    "import math\n",
    "def calc_Distance(x1,y1,x2,y2):\n",
    "    print(\"x1 = \",x1)\n",
    "    print(\"x2 = \",x2)\n",
    "    print(\"y1 = \",y1)\n",
    "    print(\"y2 = \",y2)\n",
    "    dx = x2-x1\n",
    "    dx = math.pow(dx,2)\n",
    "    dy = y2-y1\n",
    "    dy = math.pow(dy,2)\n",
    "    z = math.pow((dx+dy),0.5)\n",
    "    return z\n",
    "print(\"Distance = \",(format(calc_Distance(4,4,2,2))))\n",
    "    "
   ]
  },
  {
   "cell_type": "markdown",
   "metadata": {},
   "source": [
    " 12> For a quadratic equation in the form of ax*2+bx+c,the discriminant D,is b*b-4ac.\n",
    " Write the function to compute the discriminant D,that returns the following output depending on the discriminant D."
   ]
  },
  {
   "cell_type": "code",
   "execution_count": 19,
   "metadata": {},
   "outputs": [
    {
     "name": "stdout",
     "output_type": "stream",
     "text": [
      "a= 3\n",
      "b= 5\n",
      "c= 7\n",
      "D= -59\n",
      "the equation has two Complex Roots\n"
     ]
    }
   ],
   "source": [
    "def quard_D(a,b,c):\n",
    "    d = b*b-4*a*c\n",
    "    print(\"a=\",a)\n",
    "    print(\"b=\",b)\n",
    "    print(\"c=\",c)\n",
    "    print(\"D=\",d)\n",
    "    if d>0:\n",
    "        return \"the equation has two real Roots\"\n",
    "    elif d<0:\n",
    "        return \"the equation has two Complex Roots\"\n",
    "    else:\n",
    "        return \"the equation has one real Roots\"\n",
    "print(quard_D(3,5,7))"
   ]
  },
  {
   "cell_type": "markdown",
   "metadata": {},
   "source": [
    "13> Write the program to pass the radius of a circle as a parameter to a function area_of_circle().\n",
    "Return the value none if the value of the radius is negative or return the area of the circle."
   ]
  },
  {
   "cell_type": "code",
   "execution_count": 23,
   "metadata": {},
   "outputs": [
    {
     "name": "stdout",
     "output_type": "stream",
     "text": [
      "Radius =  2\n",
      "Area of Circle =  12.5836\n"
     ]
    }
   ],
   "source": [
    "def area_of_circle(radius):\n",
    "    if radius<0:\n",
    "        print(\"Try Again,Radius of circle cannot be Negative\")\n",
    "        return\n",
    "    else:\n",
    "        print(\"Radius = \",radius)\n",
    "        return 3.1459*radius**radius\n",
    "print(\"Area of Circle = \",area_of_circle(2))"
   ]
  },
  {
   "cell_type": "code",
   "execution_count": 27,
   "metadata": {},
   "outputs": [
    {
     "name": "stdout",
     "output_type": "stream",
     "text": [
      "None\n"
     ]
    }
   ],
   "source": [
    "##\n",
    "def calc_abs(x):\n",
    "    if x<0:\n",
    "        return -x\n",
    "    elif x>0:\n",
    "        return x\n",
    "print(calc_abs(0))"
   ]
  },
  {
   "cell_type": "markdown",
   "metadata": {},
   "source": [
    "14> Write a function calc_arith_op(num1,num2) to calculate and return at ones the result of arithmetic oprations such as addition and subtraction. "
   ]
  },
  {
   "cell_type": "code",
   "execution_count": 28,
   "metadata": {},
   "outputs": [
    {
     "name": "stdout",
     "output_type": "stream",
     "text": [
      "(30, -10)\n"
     ]
    }
   ],
   "source": [
    "def calc_arith_op(num1,num2):\n",
    "    return num1+num2,num1-num2\n",
    "print(calc_arith_op(10,20))"
   ]
  },
  {
   "cell_type": "markdown",
   "metadata": {},
   "source": [
    "14> Write a program to return multiple values from a function."
   ]
  },
  {
   "cell_type": "code",
   "execution_count": 29,
   "metadata": {},
   "outputs": [
    {
     "name": "stdout",
     "output_type": "stream",
     "text": [
      "Number =  4\n",
      "Square = 16 Cube =  64\n"
     ]
    }
   ],
   "source": [
    "def compute(num1):\n",
    "    print(\"Number = \",num1)\n",
    "    return num1*num1,num1*num1*num1\n",
    "square,cube = compute(4)\n",
    "print(\"Square =\",square,\"Cube = \",cube)"
   ]
  },
  {
   "cell_type": "markdown",
   "metadata": {},
   "source": [
    "15> Calculate the factorial of a number using recurtion."
   ]
  },
  {
   "cell_type": "code",
   "execution_count": 32,
   "metadata": {},
   "outputs": [
    {
     "name": "stdout",
     "output_type": "stream",
     "text": [
      "720\n"
     ]
    }
   ],
   "source": [
    "def factorial(n):\n",
    "    if n== 0:\n",
    "        return 1\n",
    "    return n*factorial (n-1)\n",
    "print(factorial (6))"
   ]
  },
  {
   "cell_type": "markdown",
   "metadata": {},
   "source": [
    "16> Write a recursive function which computes the nth Fibonacci number. Fibonacci numbers are defined as:\n",
    "##Fib(0) = 1,\n",
    "##Fib(1) = 1,\n",
    "##Fib(n) = Fib(n-1)+Fib(n-2).\n",
    "##find the 8th Fibonacci number."
   ]
  },
  {
   "cell_type": "code",
   "execution_count": 33,
   "metadata": {},
   "outputs": [
    {
     "name": "stdout",
     "output_type": "stream",
     "text": [
      "The Value of 8th Fibonacci number = 34\n"
     ]
    }
   ],
   "source": [
    "def fib(n):\n",
    "    if n == 0:\n",
    "        return 1\n",
    "    if n == 1:\n",
    "        return 1\n",
    "    return fib(n-1)+fib(n-2)\n",
    "print(\"The Value of 8th Fibonacci number =\",fib(8))"
   ]
  },
  {
   "cell_type": "markdown",
   "metadata": {},
   "source": [
    "##Using Lambda function"
   ]
  },
  {
   "cell_type": "code",
   "execution_count": 34,
   "metadata": {},
   "outputs": [
    {
     "name": "stdout",
     "output_type": "stream",
     "text": [
      "343\n"
     ]
    }
   ],
   "source": [
    "cube = lambda x:x*x*x\n",
    "print(cube(7))"
   ]
  }
 ],
 "metadata": {
  "kernelspec": {
   "display_name": "Python 3",
   "language": "python",
   "name": "python3"
  },
  "language_info": {
   "codemirror_mode": {
    "name": "ipython",
    "version": 3
   },
   "file_extension": ".py",
   "mimetype": "text/x-python",
   "name": "python",
   "nbconvert_exporter": "python",
   "pygments_lexer": "ipython3",
   "version": "3.7.3"
  }
 },
 "nbformat": 4,
 "nbformat_minor": 2
}
